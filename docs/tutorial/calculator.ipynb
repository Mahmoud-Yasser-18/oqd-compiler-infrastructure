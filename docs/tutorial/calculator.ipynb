{
 "cells": [
  {
   "cell_type": "code",
   "execution_count": 1,
   "metadata": {},
   "outputs": [],
   "source": [
    "from typing import List\n",
    "\n",
    "import oqd_compiler_infrastructure as ci"
   ]
  },
  {
   "cell_type": "markdown",
   "metadata": {},
   "source": [
    "## Language Definition\n"
   ]
  },
  {
   "cell_type": "code",
   "execution_count": 2,
   "metadata": {},
   "outputs": [],
   "source": [
    "class MyMath(ci.TypeReflectBaseModel):\n",
    "\n",
    "    def __add__(self, other):\n",
    "        return MyAdd(expressions=[self, other])\n",
    "\n",
    "    pass\n",
    "\n",
    "\n",
    "\n",
    "class MyInteger(MyMath):\n",
    "\n",
    "    value: int\n",
    "\n",
    "\n",
    "\n",
    "class MyAdd(MyMath):\n",
    "\n",
    "    expressions: List[MyMath]\n",
    "\n",
    "\n",
    "\n",
    "class MyMul(MyMath):\n",
    "\n",
    "    expressions: List[MyMath]\n",
    "\n",
    "\n",
    "class MyPow(MyMath):\n",
    "    expression: MyMath\n",
    "    exponent: MyMath"
   ]
  },
  {
   "cell_type": "code",
   "execution_count": 3,
   "metadata": {},
   "outputs": [
    {
     "name": "stdout",
     "output_type": "stream",
     "text": [
      "MyMul\n",
      "  - operands: list\n",
      "    - 0: MyAdd\n",
      "      - operands: list\n",
      "        - 0: MyInteger\n",
      "          - value: int(1)\n",
      "        - 1: MyInteger\n",
      "          - value: int(2)\n",
      "        - 2: MyInteger\n",
      "          - value: int(3)\n",
      "    - 1: MyInteger\n",
      "      - value: int(4)\n",
      "    - 2: MyMul\n",
      "      - operands: list\n",
      "        - 0: MyInteger\n",
      "          - value: int(5)\n",
      "        - 1: MyInteger\n",
      "          - value: int(6)\n"
     ]
    }
   ],
   "source": [
    "expr = MyMul(\n",
    "    expressions=[\n",
    "        MyAdd(expressions=[MyInteger(value=1), MyInteger(value=2), MyInteger(value=3)]),\n",
    "        MyInteger(value=4),\n",
    "        MyMul(expressions=[MyInteger(value=5), MyInteger(value=6)]),\n",
    "    ]\n",
    ")\n",
    "\n",
    "\n",
    "printer = ci.Post(ci.PrettyPrint())\n",
    "\n",
    "print(printer(expr))"
   ]
  },
  {
   "cell_type": "markdown",
   "metadata": {},
   "source": [
    "## Compiler Infrastructure\n",
    "\n",
    "### Rules\n"
   ]
  },
  {
   "cell_type": "markdown",
   "metadata": {},
   "source": [
    "#### Rewrite Rule\n"
   ]
  },
  {
   "cell_type": "code",
   "execution_count": 4,
   "metadata": {},
   "outputs": [],
   "source": [
    "class SimplifyMyMath(ci.RewriteRule):\n",
    "    def map_MyAdd(self, model):\n",
    "        o = []\n",
    "        for x in model.operands:\n",
    "            if isinstance(x, MyAdd):\n",
    "                o.extend(x.operands)\n",
    "            else:\n",
    "                o.append(x)\n",
    "        return model.__class__(operands=o)\n",
    "\n",
    "    def map_MyMul(self, model):\n",
    "        o = []\n",
    "        for x in model.operands:\n",
    "            if isinstance(x, MyMul):\n",
    "                o.extend(x.operands)\n",
    "            else:\n",
    "                o.append(x)\n",
    "        return model.__class__(operands=o)"
   ]
  },
  {
   "cell_type": "markdown",
   "metadata": {},
   "source": [
    "#### Conversion Rule\n"
   ]
  },
  {
   "cell_type": "code",
   "execution_count": 5,
   "metadata": {},
   "outputs": [],
   "source": [
    "class PrintMyMath(ci.ConversionRule):\n",
    "    def __init__(self, *, verbose=False):\n",
    "        super().__init__()\n",
    "        self.verbose = verbose\n",
    "        pass\n",
    "\n",
    "    def map_int(self, model, operands):\n",
    "        return str(model)\n",
    "\n",
    "    def map_MyInteger(self, model, operands):\n",
    "        return operands[\"value\"]\n",
    "\n",
    "    def map_MyAdd(self, model, operands):\n",
    "        if self.verbose:\n",
    "            return \"(\" + \" + \".join(operands[\"operands\"]) + \")\"\n",
    "\n",
    "        return \" + \".join(operands[\"operands\"])\n",
    "\n",
    "    def map_MyMul(self, model, operands):\n",
    "        if self.verbose:\n",
    "            return \"(\" + \" * \".join(operands[\"operands\"]) + \")\"\n",
    "\n",
    "        return \" * \".join(\n",
    "            [\n",
    "                f\"({y})\" if isinstance(x, MyAdd) else y\n",
    "                for x, y in zip(model.operands, operands[\"operands\"])\n",
    "            ]\n",
    "        )"
   ]
  },
  {
   "cell_type": "code",
   "execution_count": 6,
   "metadata": {},
   "outputs": [
    {
     "name": "stdout",
     "output_type": "stream",
     "text": [
      "((1 + 2 + 3) * 4 * (5 * 6))\n"
     ]
    }
   ],
   "source": [
    "expr = MyMul(\n",
    "    operands=[\n",
    "        MyAdd(operands=[MyInteger(value=1), MyInteger(value=2), MyInteger(value=3)]),\n",
    "        MyInteger(value=4),\n",
    "        MyMul(operands=[MyInteger(value=5), MyInteger(value=6)]),\n",
    "    ]\n",
    ")\n",
    "\n",
    "printer = ci.Post(PrintMyMath(verbose=True))\n",
    "\n",
    "print(printer(expr))"
   ]
  },
  {
   "cell_type": "markdown",
   "metadata": {},
   "source": [
    "### Walks\n"
   ]
  },
  {
   "cell_type": "code",
   "execution_count": 7,
   "metadata": {},
   "outputs": [],
   "source": [
    "class PrintWalkOrder(ci.RewriteRule):\n",
    "    def __init__(self):\n",
    "        self.current_index = 0\n",
    "        self.string = \"\"\n",
    "\n",
    "    def generic_map(self, model):\n",
    "        self.string += f\"\\n{self.current_index}: {model}\"\n",
    "        self.current_index += 1\n",
    "        pass"
   ]
  },
  {
   "cell_type": "markdown",
   "metadata": {},
   "source": [
    "#### Post\n"
   ]
  },
  {
   "cell_type": "code",
   "execution_count": 8,
   "metadata": {},
   "outputs": [
    {
     "name": "stdout",
     "output_type": "stream",
     "text": [
      "\n",
      "0: 1\n",
      "1: class_='MyInteger' value=1\n",
      "2: 2\n",
      "3: class_='MyInteger' value=2\n",
      "4: 3\n",
      "5: class_='MyInteger' value=3\n",
      "6: [MyInteger(class_='MyInteger', value=1), MyInteger(class_='MyInteger', value=2), MyInteger(class_='MyInteger', value=3)]\n",
      "7: class_='MyAdd' operands=[MyInteger(class_='MyInteger', value=1), MyInteger(class_='MyInteger', value=2), MyInteger(class_='MyInteger', value=3)]\n",
      "8: 4\n",
      "9: class_='MyInteger' value=4\n",
      "10: 5\n",
      "11: class_='MyInteger' value=5\n",
      "12: 6\n",
      "13: class_='MyInteger' value=6\n",
      "14: [MyInteger(class_='MyInteger', value=5), MyInteger(class_='MyInteger', value=6)]\n",
      "15: class_='MyMul' operands=[MyInteger(class_='MyInteger', value=5), MyInteger(class_='MyInteger', value=6)]\n",
      "16: [MyAdd(class_='MyAdd', operands=[MyInteger(class_='MyInteger', value=1), MyInteger(class_='MyInteger', value=2), MyInteger(class_='MyInteger', value=3)]), MyInteger(class_='MyInteger', value=4), MyMul(class_='MyMul', operands=[MyInteger(class_='MyInteger', value=5), MyInteger(class_='MyInteger', value=6)])]\n",
      "17: class_='MyMul' operands=[MyAdd(class_='MyAdd', operands=[MyInteger(class_='MyInteger', value=1), MyInteger(class_='MyInteger', value=2), MyInteger(class_='MyInteger', value=3)]), MyInteger(class_='MyInteger', value=4), MyMul(class_='MyMul', operands=[MyInteger(class_='MyInteger', value=5), MyInteger(class_='MyInteger', value=6)])]\n"
     ]
    }
   ],
   "source": [
    "expr = MyMul(\n",
    "    operands=[\n",
    "        MyAdd(operands=[MyInteger(value=1), MyInteger(value=2), MyInteger(value=3)]),\n",
    "        MyInteger(value=4),\n",
    "        MyMul(operands=[MyInteger(value=5), MyInteger(value=6)]),\n",
    "    ]\n",
    ")\n",
    "\n",
    "printer = ci.Post(PrintWalkOrder())\n",
    "\n",
    "printer(expr)\n",
    "\n",
    "print(printer.children[0].string)"
   ]
  },
  {
   "cell_type": "markdown",
   "metadata": {},
   "source": [
    "#### Pre\n"
   ]
  },
  {
   "cell_type": "code",
   "execution_count": 9,
   "metadata": {},
   "outputs": [
    {
     "name": "stdout",
     "output_type": "stream",
     "text": [
      "\n",
      "0: class_='MyMul' operands=[MyAdd(class_='MyAdd', operands=[MyInteger(class_='MyInteger', value=1), MyInteger(class_='MyInteger', value=2), MyInteger(class_='MyInteger', value=3)]), MyInteger(class_='MyInteger', value=4), MyMul(class_='MyMul', operands=[MyInteger(class_='MyInteger', value=5), MyInteger(class_='MyInteger', value=6)])]\n",
      "1: [MyAdd(class_='MyAdd', operands=[MyInteger(class_='MyInteger', value=1), MyInteger(class_='MyInteger', value=2), MyInteger(class_='MyInteger', value=3)]), MyInteger(class_='MyInteger', value=4), MyMul(class_='MyMul', operands=[MyInteger(class_='MyInteger', value=5), MyInteger(class_='MyInteger', value=6)])]\n",
      "2: class_='MyAdd' operands=[MyInteger(class_='MyInteger', value=1), MyInteger(class_='MyInteger', value=2), MyInteger(class_='MyInteger', value=3)]\n",
      "3: [MyInteger(class_='MyInteger', value=1), MyInteger(class_='MyInteger', value=2), MyInteger(class_='MyInteger', value=3)]\n",
      "4: class_='MyInteger' value=1\n",
      "5: 1\n",
      "6: class_='MyInteger' value=2\n",
      "7: 2\n",
      "8: class_='MyInteger' value=3\n",
      "9: 3\n",
      "10: class_='MyInteger' value=4\n",
      "11: 4\n",
      "12: class_='MyMul' operands=[MyInteger(class_='MyInteger', value=5), MyInteger(class_='MyInteger', value=6)]\n",
      "13: [MyInteger(class_='MyInteger', value=5), MyInteger(class_='MyInteger', value=6)]\n",
      "14: class_='MyInteger' value=5\n",
      "15: 5\n",
      "16: class_='MyInteger' value=6\n",
      "17: 6\n"
     ]
    }
   ],
   "source": [
    "expr = MyMul(\n",
    "    operands=[\n",
    "        MyAdd(operands=[MyInteger(value=1), MyInteger(value=2), MyInteger(value=3)]),\n",
    "        MyInteger(value=4),\n",
    "        MyMul(operands=[MyInteger(value=5), MyInteger(value=6)]),\n",
    "    ]\n",
    ")\n",
    "\n",
    "printer = ci.Pre(PrintWalkOrder())\n",
    "\n",
    "printer(expr)\n",
    "\n",
    "print(printer.children[0].string)"
   ]
  },
  {
   "cell_type": "markdown",
   "metadata": {},
   "source": [
    "#### In\n"
   ]
  },
  {
   "cell_type": "code",
   "execution_count": 10,
   "metadata": {},
   "outputs": [
    {
     "name": "stdout",
     "output_type": "stream",
     "text": [
      "\n",
      "0: class_='MyMul' operands=[MyAdd(class_='MyAdd', operands=[MyInteger(class_='MyInteger', value=1), MyInteger(class_='MyInteger', value=2), MyInteger(class_='MyInteger', value=3)]), MyInteger(class_='MyInteger', value=4), MyMul(class_='MyMul', operands=[MyInteger(class_='MyInteger', value=5), MyInteger(class_='MyInteger', value=6)])]\n",
      "1: class_='MyAdd' operands=[MyInteger(class_='MyInteger', value=1), MyInteger(class_='MyInteger', value=2), MyInteger(class_='MyInteger', value=3)]\n",
      "2: class_='MyInteger' value=1\n",
      "3: 1\n",
      "4: class_='MyInteger' value=2\n",
      "5: 2\n",
      "6: [MyInteger(class_='MyInteger', value=1), MyInteger(class_='MyInteger', value=2), MyInteger(class_='MyInteger', value=3)]\n",
      "7: class_='MyInteger' value=3\n",
      "8: 3\n",
      "9: class_='MyInteger' value=4\n",
      "10: 4\n",
      "11: [MyAdd(class_='MyAdd', operands=[MyInteger(class_='MyInteger', value=1), MyInteger(class_='MyInteger', value=2), MyInteger(class_='MyInteger', value=3)]), MyInteger(class_='MyInteger', value=4), MyMul(class_='MyMul', operands=[MyInteger(class_='MyInteger', value=5), MyInteger(class_='MyInteger', value=6)])]\n",
      "12: class_='MyMul' operands=[MyInteger(class_='MyInteger', value=5), MyInteger(class_='MyInteger', value=6)]\n",
      "13: class_='MyInteger' value=5\n",
      "14: 5\n",
      "15: [MyInteger(class_='MyInteger', value=5), MyInteger(class_='MyInteger', value=6)]\n",
      "16: class_='MyInteger' value=6\n",
      "17: 6\n"
     ]
    }
   ],
   "source": [
    "expr = MyMul(\n",
    "    operands=[\n",
    "        MyAdd(operands=[MyInteger(value=1), MyInteger(value=2), MyInteger(value=3)]),\n",
    "        MyInteger(value=4),\n",
    "        MyMul(operands=[MyInteger(value=5), MyInteger(value=6)]),\n",
    "    ]\n",
    ")\n",
    "\n",
    "printer = ci.In(PrintWalkOrder())\n",
    "\n",
    "printer(expr)\n",
    "\n",
    "print(printer.children[0].string)"
   ]
  },
  {
   "cell_type": "markdown",
   "metadata": {},
   "source": [
    "#### Level\n"
   ]
  },
  {
   "cell_type": "code",
   "execution_count": 11,
   "metadata": {},
   "outputs": [
    {
     "name": "stdout",
     "output_type": "stream",
     "text": [
      "\n",
      "0: class_='MyMul' operands=[MyAdd(class_='MyAdd', operands=[MyInteger(class_='MyInteger', value=1), MyInteger(class_='MyInteger', value=2), MyInteger(class_='MyInteger', value=3)]), MyInteger(class_='MyInteger', value=4), MyMul(class_='MyMul', operands=[MyInteger(class_='MyInteger', value=5), MyInteger(class_='MyInteger', value=6)])]\n",
      "1: [MyAdd(class_='MyAdd', operands=[MyInteger(class_='MyInteger', value=1), MyInteger(class_='MyInteger', value=2), MyInteger(class_='MyInteger', value=3)]), MyInteger(class_='MyInteger', value=4), MyMul(class_='MyMul', operands=[MyInteger(class_='MyInteger', value=5), MyInteger(class_='MyInteger', value=6)])]\n",
      "2: class_='MyAdd' operands=[MyInteger(class_='MyInteger', value=1), MyInteger(class_='MyInteger', value=2), MyInteger(class_='MyInteger', value=3)]\n",
      "3: class_='MyInteger' value=4\n",
      "4: class_='MyMul' operands=[MyInteger(class_='MyInteger', value=5), MyInteger(class_='MyInteger', value=6)]\n",
      "5: [MyInteger(class_='MyInteger', value=1), MyInteger(class_='MyInteger', value=2), MyInteger(class_='MyInteger', value=3)]\n",
      "6: 4\n",
      "7: [MyInteger(class_='MyInteger', value=5), MyInteger(class_='MyInteger', value=6)]\n",
      "8: class_='MyInteger' value=1\n",
      "9: class_='MyInteger' value=2\n",
      "10: class_='MyInteger' value=3\n",
      "11: class_='MyInteger' value=5\n",
      "12: class_='MyInteger' value=6\n",
      "13: 1\n",
      "14: 2\n",
      "15: 3\n",
      "16: 5\n",
      "17: 6\n"
     ]
    }
   ],
   "source": [
    "expr = MyMul(\n",
    "    operands=[\n",
    "        MyAdd(operands=[MyInteger(value=1), MyInteger(value=2), MyInteger(value=3)]),\n",
    "        MyInteger(value=4),\n",
    "        MyMul(operands=[MyInteger(value=5), MyInteger(value=6)]),\n",
    "    ]\n",
    ")\n",
    "\n",
    "printer = ci.Level(PrintWalkOrder())\n",
    "\n",
    "printer(expr)\n",
    "\n",
    "print(printer.children[0].string)"
   ]
  },
  {
   "cell_type": "markdown",
   "metadata": {},
   "source": [
    "### Rewriters\n"
   ]
  },
  {
   "cell_type": "markdown",
   "metadata": {},
   "source": [
    "#### Chain\n"
   ]
  },
  {
   "cell_type": "code",
   "execution_count": 12,
   "metadata": {},
   "outputs": [
    {
     "name": "stdout",
     "output_type": "stream",
     "text": [
      "((1 + 2 + 3) * 4 * 5 * 6 * 7 * 8)\n"
     ]
    }
   ],
   "source": [
    "expr = MyMul(\n",
    "    operands=[\n",
    "        MyAdd(operands=[MyInteger(value=1), MyInteger(value=2), MyInteger(value=3)]),\n",
    "        MyInteger(value=4),\n",
    "        MyMul(\n",
    "            operands=[\n",
    "                MyInteger(value=5),\n",
    "                MyInteger(value=6),\n",
    "                MyMul(operands=[MyInteger(value=7), MyInteger(value=8)]),\n",
    "            ]\n",
    "        ),\n",
    "    ]\n",
    ")\n",
    "\n",
    "printer = ci.Chain(\n",
    "    ci.Post(SimplifyMyMath()),\n",
    "    ci.Post(PrintMyMath(verbose=True)),\n",
    ")\n",
    "\n",
    "print(printer(expr))"
   ]
  },
  {
   "cell_type": "markdown",
   "metadata": {},
   "source": [
    "#### FixedPoint\n"
   ]
  },
  {
   "cell_type": "code",
   "execution_count": 13,
   "metadata": {},
   "outputs": [
    {
     "name": "stdout",
     "output_type": "stream",
     "text": [
      "((1 + 2 + 3) * 4 * 5 * 6 * 7 * 8)\n"
     ]
    }
   ],
   "source": [
    "expr = MyMul(\n",
    "    operands=[\n",
    "        MyAdd(operands=[MyInteger(value=1), MyInteger(value=2), MyInteger(value=3)]),\n",
    "        MyInteger(value=4),\n",
    "        MyMul(\n",
    "            operands=[\n",
    "                MyInteger(value=5),\n",
    "                MyInteger(value=6),\n",
    "                MyMul(operands=[MyInteger(value=7), MyInteger(value=8)]),\n",
    "            ]\n",
    "        ),\n",
    "    ]\n",
    ")\n",
    "\n",
    "simplifier = ci.FixedPoint(ci.Pre(SimplifyMyMath()))\n",
    "\n",
    "printer = ci.Post(PrintMyMath(verbose=True))\n",
    "\n",
    "print(printer(simplifier(expr)))"
   ]
  },
  {
   "cell_type": "code",
   "execution_count": 3,
   "metadata": {},
   "outputs": [],
   "source": [
    "from pydantic import conlist\n",
    "import oqd_compiler_infrastructure as ci\n",
    "\n",
    "\n",
    "class A(ci.VisitableBaseModel):\n",
    "    x: conlist(int, min_length=3, max_length=3)"
   ]
  },
  {
   "cell_type": "code",
   "execution_count": 76,
   "metadata": {},
   "outputs": [],
   "source": [
    "import oqd_compiler_infrastructure as ci\n",
    "\n",
    "from typing import List\n",
    "\n",
    "import functools\n",
    "\n",
    "# Operator language\n",
    "\n",
    "\n",
    "class Operator(ci.VisitableBaseModel):\n",
    "\n",
    "    def __add__(self, other):\n",
    "        return OperatorAdd(op1=self, op2=other)\n",
    "\n",
    "\n",
    "class OperatorConst(Operator):\n",
    "    value: int\n",
    "\n",
    "\n",
    "class OperatorAdd(Operator):\n",
    "    op1: Operator\n",
    "    op2: Operator\n",
    "\n",
    "\n",
    "# Chamber Language\n",
    "\n",
    "\n",
    "class Chain(ci.VisitableBaseModel):\n",
    "    ions: List[int]\n",
    "    pass\n",
    "\n",
    "\n",
    "class Laser(ci.VisitableBaseModel):\n",
    "    pass\n",
    "\n",
    "\n",
    "class Chamber(ci.VisitableBaseModel):\n",
    "    chain: Chain\n",
    "    lasers: List[Laser]\n",
    "\n",
    "\n",
    "# Compiler from Chamber language to Operator language\n",
    "\n",
    "\n",
    "class Chamber2operator(ci.ConversionRule):\n",
    "    def map_Chamber(self, model, operands) -> Operator:\n",
    "\n",
    "        x = operands[\"lasers\"][0]\n",
    "        for i in operands[\"lasers\"][1:]:\n",
    "            x += i\n",
    "\n",
    "        return operands[\"chain\"] + x\n",
    "\n",
    "    def map_Chain(self, model, operands) -> Operator:\n",
    "        self.ions = model.ions\n",
    "\n",
    "        y = operands[\"ions\"][0]\n",
    "        for i in operands[\"ions\"][1:]:\n",
    "            y += i\n",
    "\n",
    "        return y\n",
    "\n",
    "    def map_int(self, model, operands) -> Operator:\n",
    "        return OperatorConst(value=1)\n",
    "\n",
    "    def map_Laser(self, model, operands) -> Operator:\n",
    "        operator = OperatorConst(value=0)\n",
    "        for ion in self.ions:\n",
    "            operator += OperatorConst(value=3)\n",
    "\n",
    "        return operator"
   ]
  },
  {
   "cell_type": "code",
   "execution_count": 89,
   "metadata": {},
   "outputs": [],
   "source": [
    "prog = Chamber(chain=Chain(ions=[1, 2]), lasers=[Laser(), Laser()])"
   ]
  },
  {
   "cell_type": "code",
   "execution_count": 90,
   "metadata": {},
   "outputs": [],
   "source": [
    "compiler = ci.Post(Chamber2operator())"
   ]
  },
  {
   "cell_type": "code",
   "execution_count": 91,
   "metadata": {},
   "outputs": [
    {
     "name": "stdout",
     "output_type": "stream",
     "text": [
      "OperatorAdd\n",
      "  - op1: OperatorAdd\n",
      "    - op1: OperatorConst\n",
      "      - value: int(1)\n",
      "    - op2: OperatorConst\n",
      "      - value: int(1)\n",
      "  - op2: OperatorAdd\n",
      "    - op1: OperatorAdd\n",
      "      - op1: OperatorAdd\n",
      "        - op1: OperatorConst\n",
      "          - value: int(0)\n",
      "        - op2: OperatorConst\n",
      "          - value: int(3)\n",
      "      - op2: OperatorConst\n",
      "        - value: int(3)\n",
      "    - op2: OperatorAdd\n",
      "      - op1: OperatorAdd\n",
      "        - op1: OperatorConst\n",
      "          - value: int(0)\n",
      "        - op2: OperatorConst\n",
      "          - value: int(3)\n",
      "      - op2: OperatorConst\n",
      "        - value: int(3)\n"
     ]
    }
   ],
   "source": [
    "compiled_prog = compiler(prog)\n",
    "\n",
    "printer = ci.Post(ci.PrettyPrint())\n",
    "\n",
    "print(printer(compiled_prog))"
   ]
  },
  {
   "cell_type": "code",
   "execution_count": null,
   "metadata": {},
   "outputs": [],
   "source": []
  },
  {
   "cell_type": "code",
   "execution_count": null,
   "metadata": {},
   "outputs": [],
   "source": []
  }
 ],
 "metadata": {
  "kernelspec": {
   "display_name": "Python 3",
   "language": "python",
   "name": "python3"
  },
  "language_info": {
   "codemirror_mode": {
    "name": "ipython",
    "version": 3
   },
   "file_extension": ".py",
   "mimetype": "text/x-python",
   "name": "python",
   "nbconvert_exporter": "python",
   "pygments_lexer": "ipython3",
   "version": "3.10.14"
  }
 },
 "nbformat": 4,
 "nbformat_minor": 2
}
