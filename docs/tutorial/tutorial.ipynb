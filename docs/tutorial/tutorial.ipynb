{
 "cells": [
  {
   "cell_type": "code",
   "execution_count": 1,
   "metadata": {},
   "outputs": [],
   "source": [
    "from typing import List\n",
    "\n",
    "import oqd_compiler_infrastructure as ci"
   ]
  },
  {
   "cell_type": "markdown",
   "metadata": {},
   "source": [
    "## Language Definition\n"
   ]
  },
  {
   "cell_type": "code",
   "execution_count": 2,
   "metadata": {},
   "outputs": [],
   "source": [
    "class MyMath(ci.TypeReflectBaseModel):\n",
    "    pass\n",
    "\n",
    "\n",
    "class MyInteger(MyMath):\n",
    "    value: int\n",
    "\n",
    "\n",
    "class MyAdd(MyMath):\n",
    "    operands: List[MyMath]\n",
    "\n",
    "\n",
    "class MyMul(MyMath):\n",
    "    operands: List[MyMath]"
   ]
  },
  {
   "cell_type": "code",
   "execution_count": 3,
   "metadata": {},
   "outputs": [
    {
     "name": "stdout",
     "output_type": "stream",
     "text": [
      "MyMul\n",
      "  - operands: list\n",
      "    - 0: MyAdd\n",
      "      - operands: list\n",
      "        - 0: MyInteger\n",
      "          - value: int(1)\n",
      "        - 1: MyInteger\n",
      "          - value: int(2)\n",
      "        - 2: MyInteger\n",
      "          - value: int(3)\n",
      "    - 1: MyInteger\n",
      "      - value: int(4)\n",
      "    - 2: MyMul\n",
      "      - operands: list\n",
      "        - 0: MyInteger\n",
      "          - value: int(5)\n",
      "        - 1: MyInteger\n",
      "          - value: int(6)\n"
     ]
    }
   ],
   "source": [
    "expr = MyMul(\n",
    "    operands=[\n",
    "        MyAdd(operands=[MyInteger(value=1), MyInteger(value=2), MyInteger(value=3)]),\n",
    "        MyInteger(value=4),\n",
    "        MyMul(operands=[MyInteger(value=5), MyInteger(value=6)]),\n",
    "    ]\n",
    ")\n",
    "\n",
    "\n",
    "printer = ci.Post(ci.PrettyPrint())\n",
    "\n",
    "print(printer(expr))"
   ]
  },
  {
   "cell_type": "markdown",
   "metadata": {},
   "source": [
    "## Compiler Infrastructure\n",
    "\n",
    "### Rules\n"
   ]
  },
  {
   "cell_type": "markdown",
   "metadata": {},
   "source": [
    "#### Rewrite Rule\n"
   ]
  },
  {
   "cell_type": "code",
   "execution_count": 4,
   "metadata": {},
   "outputs": [],
   "source": [
    "class SimplifyMyMath(ci.RewriteRule):\n",
    "    def map_MyAdd(self, model):\n",
    "        o = []\n",
    "        for x in model.operands:\n",
    "            if isinstance(x, MyAdd):\n",
    "                o.extend(x.operands)\n",
    "            else:\n",
    "                o.append(x)\n",
    "        return model.__class__(operands=o)\n",
    "\n",
    "    def map_MyMul(self, model):\n",
    "        o = []\n",
    "        for x in model.operands:\n",
    "            if isinstance(x, MyMul):\n",
    "                o.extend(x.operands)\n",
    "            else:\n",
    "                o.append(x)\n",
    "        return model.__class__(operands=o)"
   ]
  },
  {
   "cell_type": "markdown",
   "metadata": {},
   "source": [
    "#### Conversion Rule\n"
   ]
  },
  {
   "cell_type": "code",
   "execution_count": 5,
   "metadata": {},
   "outputs": [],
   "source": [
    "class PrintMyMath(ci.ConversionRule):\n",
    "    def __init__(self, *, verbose=False):\n",
    "        super().__init__()\n",
    "        self.verbose = verbose\n",
    "        pass\n",
    "\n",
    "    def map_int(self, model, operands):\n",
    "        return str(model)\n",
    "\n",
    "    def map_MyInteger(self, model, operands):\n",
    "        return operands[\"value\"]\n",
    "\n",
    "    def map_MyAdd(self, model, operands):\n",
    "        if self.verbose:\n",
    "            return \" + \".join(\n",
    "                [\n",
    "                    f\"({y})\" if isinstance(x, (MyAdd, MyMul)) else y\n",
    "                    for x, y in zip(model.operands, operands[\"operands\"])\n",
    "                ]\n",
    "            )\n",
    "\n",
    "        return \" + \".join(operands[\"operands\"])\n",
    "\n",
    "    def map_MyMul(self, model, operands):\n",
    "        if self.verbose:\n",
    "            return \" * \".join(\n",
    "                [\n",
    "                    f\"({y})\" if isinstance(x, (MyAdd, MyMul)) else y\n",
    "                    for x, y in zip(model.operands, operands[\"operands\"])\n",
    "                ]\n",
    "            )\n",
    "\n",
    "        return \" * \".join(\n",
    "            [\n",
    "                f\"({y})\" if isinstance(x, MyAdd) else y\n",
    "                for x, y in zip(model.operands, operands[\"operands\"])\n",
    "            ]\n",
    "        )"
   ]
  },
  {
   "cell_type": "code",
   "execution_count": 6,
   "metadata": {},
   "outputs": [
    {
     "name": "stdout",
     "output_type": "stream",
     "text": [
      "(1 + 2 + 3) * 4 * (5 * 6)\n"
     ]
    }
   ],
   "source": [
    "expr = MyMul(\n",
    "    operands=[\n",
    "        MyAdd(operands=[MyInteger(value=1), MyInteger(value=2), MyInteger(value=3)]),\n",
    "        MyInteger(value=4),\n",
    "        MyMul(operands=[MyInteger(value=5), MyInteger(value=6)]),\n",
    "    ]\n",
    ")\n",
    "\n",
    "printer = ci.Post(PrintMyMath(verbose=True))\n",
    "\n",
    "print(printer(expr))"
   ]
  },
  {
   "cell_type": "markdown",
   "metadata": {},
   "source": [
    "### Walks\n"
   ]
  },
  {
   "cell_type": "markdown",
   "metadata": {},
   "source": [
    "### Rewriters\n"
   ]
  }
 ],
 "metadata": {
  "kernelspec": {
   "display_name": "Python 3",
   "language": "python",
   "name": "python3"
  },
  "language_info": {
   "codemirror_mode": {
    "name": "ipython",
    "version": 3
   },
   "file_extension": ".py",
   "mimetype": "text/x-python",
   "name": "python",
   "nbconvert_exporter": "python",
   "pygments_lexer": "ipython3",
   "version": "3.10.14"
  }
 },
 "nbformat": 4,
 "nbformat_minor": 2
}
