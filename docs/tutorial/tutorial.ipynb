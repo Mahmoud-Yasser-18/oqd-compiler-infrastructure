{
 "cells": [
  {
   "cell_type": "code",
   "execution_count": 1,
   "metadata": {},
   "outputs": [],
   "source": [
    "from typing import List\n",
    "\n",
    "import oqd_compiler_infrastructure as ci"
   ]
  },
  {
   "cell_type": "markdown",
   "metadata": {},
   "source": [
    "## Language Definition\n"
   ]
  },
  {
   "cell_type": "code",
   "execution_count": 2,
   "metadata": {},
   "outputs": [],
   "source": [
    "class MyMath(ci.TypeReflectBaseModel):\n",
    "    pass\n",
    "\n",
    "\n",
    "class MyInteger(MyMath):\n",
    "    value: int\n",
    "\n",
    "\n",
    "class MyAdd(MyMath):\n",
    "    operands: List[MyMath]\n",
    "\n",
    "\n",
    "class MyMul(MyMath):\n",
    "    operands: List[MyMath]"
   ]
  },
  {
   "cell_type": "code",
   "execution_count": 3,
   "metadata": {},
   "outputs": [
    {
     "name": "stdout",
     "output_type": "stream",
     "text": [
      "MyMul\n",
      "  - operands: list\n",
      "    - 0: MyAdd\n",
      "      - operands: list\n",
      "        - 0: MyInteger\n",
      "          - value: int(1)\n",
      "        - 1: MyInteger\n",
      "          - value: int(2)\n",
      "        - 2: MyInteger\n",
      "          - value: int(3)\n",
      "    - 1: MyInteger\n",
      "      - value: int(4)\n",
      "    - 2: MyMul\n",
      "      - operands: list\n",
      "        - 0: MyInteger\n",
      "          - value: int(5)\n",
      "        - 1: MyInteger\n",
      "          - value: int(6)\n"
     ]
    }
   ],
   "source": [
    "expr = MyMul(\n",
    "    operands=[\n",
    "        MyAdd(operands=[MyInteger(value=1), MyInteger(value=2), MyInteger(value=3)]),\n",
    "        MyInteger(value=4),\n",
    "        MyMul(operands=[MyInteger(value=5), MyInteger(value=6)]),\n",
    "    ]\n",
    ")\n",
    "\n",
    "\n",
    "printer = ci.Post(ci.PrettyPrint())\n",
    "\n",
    "print(printer(expr))"
   ]
  },
  {
   "cell_type": "markdown",
   "metadata": {},
   "source": [
    "## Compiler Infrastructure\n",
    "\n",
    "### Rules\n"
   ]
  },
  {
   "cell_type": "markdown",
   "metadata": {},
   "source": [
    "#### Rewrite Rule\n"
   ]
  },
  {
   "cell_type": "code",
   "execution_count": 4,
   "metadata": {},
   "outputs": [],
   "source": [
    "class SimplifyMyMath(ci.RewriteRule):\n",
    "    def map_MyAdd(self, model):\n",
    "        o = []\n",
    "        for x in model.operands:\n",
    "            if isinstance(x, MyAdd):\n",
    "                o.extend(x.operands)\n",
    "            else:\n",
    "                o.append(x)\n",
    "        return model.__class__(operands=o)\n",
    "\n",
    "    def map_MyMul(self, model):\n",
    "        o = []\n",
    "        for x in model.operands:\n",
    "            if isinstance(x, MyMul):\n",
    "                o.extend(x.operands)\n",
    "            else:\n",
    "                o.append(x)\n",
    "        return model.__class__(operands=o)"
   ]
  },
  {
   "cell_type": "markdown",
   "metadata": {},
   "source": [
    "#### Conversion Rule\n"
   ]
  },
  {
   "cell_type": "code",
   "execution_count": 5,
   "metadata": {},
   "outputs": [],
   "source": [
    "class PrintMyMath(ci.ConversionRule):\n",
    "    def __init__(self, *, verbose=False):\n",
    "        super().__init__()\n",
    "        self.verbose = verbose\n",
    "        pass\n",
    "\n",
    "    def map_int(self, model, operands):\n",
    "        return str(model)\n",
    "\n",
    "    def map_MyInteger(self, model, operands):\n",
    "        return operands[\"value\"]\n",
    "\n",
    "    def map_MyAdd(self, model, operands):\n",
    "        if self.verbose:\n",
    "            return \"(\" + \" + \".join(operands[\"operands\"]) + \")\"\n",
    "\n",
    "        return \" + \".join(operands[\"operands\"])\n",
    "\n",
    "    def map_MyMul(self, model, operands):\n",
    "        if self.verbose:\n",
    "            return \"(\" + \" * \".join(operands[\"operands\"]) + \")\"\n",
    "\n",
    "        return \" * \".join(\n",
    "            [\n",
    "                f\"({y})\" if isinstance(x, MyAdd) else y\n",
    "                for x, y in zip(model.operands, operands[\"operands\"])\n",
    "            ]\n",
    "        )"
   ]
  },
  {
   "cell_type": "code",
   "execution_count": 6,
   "metadata": {},
   "outputs": [
    {
     "name": "stdout",
     "output_type": "stream",
     "text": [
      "((1 + 2 + 3) * 4 * (5 * 6))\n"
     ]
    }
   ],
   "source": [
    "expr = MyMul(\n",
    "    operands=[\n",
    "        MyAdd(operands=[MyInteger(value=1), MyInteger(value=2), MyInteger(value=3)]),\n",
    "        MyInteger(value=4),\n",
    "        MyMul(operands=[MyInteger(value=5), MyInteger(value=6)]),\n",
    "    ]\n",
    ")\n",
    "\n",
    "printer = ci.Post(PrintMyMath(verbose=True))\n",
    "\n",
    "print(printer(expr))"
   ]
  },
  {
   "cell_type": "markdown",
   "metadata": {},
   "source": [
    "### Walks\n"
   ]
  },
  {
   "cell_type": "code",
   "execution_count": 7,
   "metadata": {},
   "outputs": [],
   "source": [
    "class PrintWalkOrder(ci.RewriteRule):\n",
    "    def __init__(self):\n",
    "        self.current_index = 0\n",
    "        self.string = \"\"\n",
    "\n",
    "    def generic_map(self, model):\n",
    "        self.string += f\"\\n{self.current_index}: {model}\"\n",
    "        self.current_index += 1\n",
    "        pass"
   ]
  },
  {
   "cell_type": "markdown",
   "metadata": {},
   "source": [
    "#### Post\n"
   ]
  },
  {
   "cell_type": "code",
   "execution_count": 8,
   "metadata": {},
   "outputs": [
    {
     "name": "stdout",
     "output_type": "stream",
     "text": [
      "\n",
      "0: 1\n",
      "1: class_='MyInteger' value=1\n",
      "2: 2\n",
      "3: class_='MyInteger' value=2\n",
      "4: 3\n",
      "5: class_='MyInteger' value=3\n",
      "6: [MyInteger(class_='MyInteger', value=1), MyInteger(class_='MyInteger', value=2), MyInteger(class_='MyInteger', value=3)]\n",
      "7: class_='MyAdd' operands=[MyInteger(class_='MyInteger', value=1), MyInteger(class_='MyInteger', value=2), MyInteger(class_='MyInteger', value=3)]\n",
      "8: 4\n",
      "9: class_='MyInteger' value=4\n",
      "10: 5\n",
      "11: class_='MyInteger' value=5\n",
      "12: 6\n",
      "13: class_='MyInteger' value=6\n",
      "14: [MyInteger(class_='MyInteger', value=5), MyInteger(class_='MyInteger', value=6)]\n",
      "15: class_='MyMul' operands=[MyInteger(class_='MyInteger', value=5), MyInteger(class_='MyInteger', value=6)]\n",
      "16: [MyAdd(class_='MyAdd', operands=[MyInteger(class_='MyInteger', value=1), MyInteger(class_='MyInteger', value=2), MyInteger(class_='MyInteger', value=3)]), MyInteger(class_='MyInteger', value=4), MyMul(class_='MyMul', operands=[MyInteger(class_='MyInteger', value=5), MyInteger(class_='MyInteger', value=6)])]\n",
      "17: class_='MyMul' operands=[MyAdd(class_='MyAdd', operands=[MyInteger(class_='MyInteger', value=1), MyInteger(class_='MyInteger', value=2), MyInteger(class_='MyInteger', value=3)]), MyInteger(class_='MyInteger', value=4), MyMul(class_='MyMul', operands=[MyInteger(class_='MyInteger', value=5), MyInteger(class_='MyInteger', value=6)])]\n"
     ]
    }
   ],
   "source": [
    "expr = MyMul(\n",
    "    operands=[\n",
    "        MyAdd(operands=[MyInteger(value=1), MyInteger(value=2), MyInteger(value=3)]),\n",
    "        MyInteger(value=4),\n",
    "        MyMul(operands=[MyInteger(value=5), MyInteger(value=6)]),\n",
    "    ]\n",
    ")\n",
    "\n",
    "printer = ci.Post(PrintWalkOrder())\n",
    "\n",
    "printer(expr)\n",
    "\n",
    "print(printer.children[0].string)"
   ]
  },
  {
   "cell_type": "markdown",
   "metadata": {},
   "source": [
    "#### Pre\n"
   ]
  },
  {
   "cell_type": "code",
   "execution_count": 9,
   "metadata": {},
   "outputs": [
    {
     "name": "stdout",
     "output_type": "stream",
     "text": [
      "\n",
      "0: class_='MyMul' operands=[MyAdd(class_='MyAdd', operands=[MyInteger(class_='MyInteger', value=1), MyInteger(class_='MyInteger', value=2), MyInteger(class_='MyInteger', value=3)]), MyInteger(class_='MyInteger', value=4), MyMul(class_='MyMul', operands=[MyInteger(class_='MyInteger', value=5), MyInteger(class_='MyInteger', value=6)])]\n",
      "1: [MyAdd(class_='MyAdd', operands=[MyInteger(class_='MyInteger', value=1), MyInteger(class_='MyInteger', value=2), MyInteger(class_='MyInteger', value=3)]), MyInteger(class_='MyInteger', value=4), MyMul(class_='MyMul', operands=[MyInteger(class_='MyInteger', value=5), MyInteger(class_='MyInteger', value=6)])]\n",
      "2: class_='MyAdd' operands=[MyInteger(class_='MyInteger', value=1), MyInteger(class_='MyInteger', value=2), MyInteger(class_='MyInteger', value=3)]\n",
      "3: [MyInteger(class_='MyInteger', value=1), MyInteger(class_='MyInteger', value=2), MyInteger(class_='MyInteger', value=3)]\n",
      "4: class_='MyInteger' value=1\n",
      "5: 1\n",
      "6: class_='MyInteger' value=2\n",
      "7: 2\n",
      "8: class_='MyInteger' value=3\n",
      "9: 3\n",
      "10: class_='MyInteger' value=4\n",
      "11: 4\n",
      "12: class_='MyMul' operands=[MyInteger(class_='MyInteger', value=5), MyInteger(class_='MyInteger', value=6)]\n",
      "13: [MyInteger(class_='MyInteger', value=5), MyInteger(class_='MyInteger', value=6)]\n",
      "14: class_='MyInteger' value=5\n",
      "15: 5\n",
      "16: class_='MyInteger' value=6\n",
      "17: 6\n"
     ]
    }
   ],
   "source": [
    "expr = MyMul(\n",
    "    operands=[\n",
    "        MyAdd(operands=[MyInteger(value=1), MyInteger(value=2), MyInteger(value=3)]),\n",
    "        MyInteger(value=4),\n",
    "        MyMul(operands=[MyInteger(value=5), MyInteger(value=6)]),\n",
    "    ]\n",
    ")\n",
    "\n",
    "printer = ci.Pre(PrintWalkOrder())\n",
    "\n",
    "printer(expr)\n",
    "\n",
    "print(printer.children[0].string)"
   ]
  },
  {
   "cell_type": "markdown",
   "metadata": {},
   "source": [
    "#### In\n"
   ]
  },
  {
   "cell_type": "code",
   "execution_count": 10,
   "metadata": {},
   "outputs": [
    {
     "name": "stdout",
     "output_type": "stream",
     "text": [
      "\n",
      "0: class_='MyMul' operands=[MyAdd(class_='MyAdd', operands=[MyInteger(class_='MyInteger', value=1), MyInteger(class_='MyInteger', value=2), MyInteger(class_='MyInteger', value=3)]), MyInteger(class_='MyInteger', value=4), MyMul(class_='MyMul', operands=[MyInteger(class_='MyInteger', value=5), MyInteger(class_='MyInteger', value=6)])]\n",
      "1: class_='MyAdd' operands=[MyInteger(class_='MyInteger', value=1), MyInteger(class_='MyInteger', value=2), MyInteger(class_='MyInteger', value=3)]\n",
      "2: class_='MyInteger' value=1\n",
      "3: 1\n",
      "4: class_='MyInteger' value=2\n",
      "5: 2\n",
      "6: [MyInteger(class_='MyInteger', value=1), MyInteger(class_='MyInteger', value=2), MyInteger(class_='MyInteger', value=3)]\n",
      "7: class_='MyInteger' value=3\n",
      "8: 3\n",
      "9: class_='MyInteger' value=4\n",
      "10: 4\n",
      "11: [MyAdd(class_='MyAdd', operands=[MyInteger(class_='MyInteger', value=1), MyInteger(class_='MyInteger', value=2), MyInteger(class_='MyInteger', value=3)]), MyInteger(class_='MyInteger', value=4), MyMul(class_='MyMul', operands=[MyInteger(class_='MyInteger', value=5), MyInteger(class_='MyInteger', value=6)])]\n",
      "12: class_='MyMul' operands=[MyInteger(class_='MyInteger', value=5), MyInteger(class_='MyInteger', value=6)]\n",
      "13: class_='MyInteger' value=5\n",
      "14: 5\n",
      "15: [MyInteger(class_='MyInteger', value=5), MyInteger(class_='MyInteger', value=6)]\n",
      "16: class_='MyInteger' value=6\n",
      "17: 6\n"
     ]
    }
   ],
   "source": [
    "expr = MyMul(\n",
    "    operands=[\n",
    "        MyAdd(operands=[MyInteger(value=1), MyInteger(value=2), MyInteger(value=3)]),\n",
    "        MyInteger(value=4),\n",
    "        MyMul(operands=[MyInteger(value=5), MyInteger(value=6)]),\n",
    "    ]\n",
    ")\n",
    "\n",
    "printer = ci.In(PrintWalkOrder())\n",
    "\n",
    "printer(expr)\n",
    "\n",
    "print(printer.children[0].string)"
   ]
  },
  {
   "cell_type": "markdown",
   "metadata": {},
   "source": [
    "#### Level\n"
   ]
  },
  {
   "cell_type": "code",
   "execution_count": 11,
   "metadata": {},
   "outputs": [
    {
     "name": "stdout",
     "output_type": "stream",
     "text": [
      "\n",
      "0: class_='MyMul' operands=[MyAdd(class_='MyAdd', operands=[MyInteger(class_='MyInteger', value=1), MyInteger(class_='MyInteger', value=2), MyInteger(class_='MyInteger', value=3)]), MyInteger(class_='MyInteger', value=4), MyMul(class_='MyMul', operands=[MyInteger(class_='MyInteger', value=5), MyInteger(class_='MyInteger', value=6)])]\n",
      "1: [MyAdd(class_='MyAdd', operands=[MyInteger(class_='MyInteger', value=1), MyInteger(class_='MyInteger', value=2), MyInteger(class_='MyInteger', value=3)]), MyInteger(class_='MyInteger', value=4), MyMul(class_='MyMul', operands=[MyInteger(class_='MyInteger', value=5), MyInteger(class_='MyInteger', value=6)])]\n",
      "2: class_='MyAdd' operands=[MyInteger(class_='MyInteger', value=1), MyInteger(class_='MyInteger', value=2), MyInteger(class_='MyInteger', value=3)]\n",
      "3: class_='MyInteger' value=4\n",
      "4: class_='MyMul' operands=[MyInteger(class_='MyInteger', value=5), MyInteger(class_='MyInteger', value=6)]\n",
      "5: [MyInteger(class_='MyInteger', value=1), MyInteger(class_='MyInteger', value=2), MyInteger(class_='MyInteger', value=3)]\n",
      "6: 4\n",
      "7: [MyInteger(class_='MyInteger', value=5), MyInteger(class_='MyInteger', value=6)]\n",
      "8: class_='MyInteger' value=1\n",
      "9: class_='MyInteger' value=2\n",
      "10: class_='MyInteger' value=3\n",
      "11: class_='MyInteger' value=5\n",
      "12: class_='MyInteger' value=6\n",
      "13: 1\n",
      "14: 2\n",
      "15: 3\n",
      "16: 5\n",
      "17: 6\n"
     ]
    }
   ],
   "source": [
    "expr = MyMul(\n",
    "    operands=[\n",
    "        MyAdd(operands=[MyInteger(value=1), MyInteger(value=2), MyInteger(value=3)]),\n",
    "        MyInteger(value=4),\n",
    "        MyMul(operands=[MyInteger(value=5), MyInteger(value=6)]),\n",
    "    ]\n",
    ")\n",
    "\n",
    "printer = ci.Level(PrintWalkOrder())\n",
    "\n",
    "printer(expr)\n",
    "\n",
    "print(printer.children[0].string)"
   ]
  },
  {
   "cell_type": "markdown",
   "metadata": {},
   "source": [
    "### Rewriters\n"
   ]
  },
  {
   "cell_type": "markdown",
   "metadata": {},
   "source": [
    "#### Chain\n"
   ]
  },
  {
   "cell_type": "code",
   "execution_count": 12,
   "metadata": {},
   "outputs": [
    {
     "name": "stdout",
     "output_type": "stream",
     "text": [
      "((1 + 2 + 3) * 4 * 5 * 6 * 7 * 8)\n"
     ]
    }
   ],
   "source": [
    "expr = MyMul(\n",
    "    operands=[\n",
    "        MyAdd(operands=[MyInteger(value=1), MyInteger(value=2), MyInteger(value=3)]),\n",
    "        MyInteger(value=4),\n",
    "        MyMul(\n",
    "            operands=[\n",
    "                MyInteger(value=5),\n",
    "                MyInteger(value=6),\n",
    "                MyMul(operands=[MyInteger(value=7), MyInteger(value=8)]),\n",
    "            ]\n",
    "        ),\n",
    "    ]\n",
    ")\n",
    "\n",
    "printer = ci.Chain(\n",
    "    ci.Post(SimplifyMyMath()),\n",
    "    ci.Post(PrintMyMath(verbose=True)),\n",
    ")\n",
    "\n",
    "print(printer(expr))"
   ]
  },
  {
   "cell_type": "markdown",
   "metadata": {},
   "source": [
    "#### FixedPoint\n"
   ]
  },
  {
   "cell_type": "code",
   "execution_count": 13,
   "metadata": {},
   "outputs": [
    {
     "name": "stdout",
     "output_type": "stream",
     "text": [
      "((1 + 2 + 3) * 4 * 5 * 6 * 7 * 8)\n"
     ]
    }
   ],
   "source": [
    "expr = MyMul(\n",
    "    operands=[\n",
    "        MyAdd(operands=[MyInteger(value=1), MyInteger(value=2), MyInteger(value=3)]),\n",
    "        MyInteger(value=4),\n",
    "        MyMul(\n",
    "            operands=[\n",
    "                MyInteger(value=5),\n",
    "                MyInteger(value=6),\n",
    "                MyMul(operands=[MyInteger(value=7), MyInteger(value=8)]),\n",
    "            ]\n",
    "        ),\n",
    "    ]\n",
    ")\n",
    "\n",
    "simplifier = ci.FixedPoint(ci.Pre(SimplifyMyMath()))\n",
    "\n",
    "printer = ci.Post(PrintMyMath(verbose=True))\n",
    "\n",
    "print(printer(simplifier(expr)))"
   ]
  },
  {
   "cell_type": "code",
   "execution_count": null,
   "metadata": {},
   "outputs": [],
   "source": []
  }
 ],
 "metadata": {
  "kernelspec": {
   "display_name": "Python 3",
   "language": "python",
   "name": "python3"
  },
  "language_info": {
   "codemirror_mode": {
    "name": "ipython",
    "version": 3
   },
   "file_extension": ".py",
   "mimetype": "text/x-python",
   "name": "python",
   "nbconvert_exporter": "python",
   "pygments_lexer": "ipython3",
   "version": "3.10.14"
  }
 },
 "nbformat": 4,
 "nbformat_minor": 2
}
